{
 "cells": [
  {
   "cell_type": "markdown",
   "metadata": {},
   "source": [
    "# Medical Insurance Cost Prediction - Data Exploration\n",
    "\n",
    "This notebook provides an initial exploration of the medical insurance dataset."
   ]
  },
  {
   "cell_type": "code",
   "execution_count": null,
   "metadata": {},
   "outputs": [],
   "source": [
    "# Import necessary libraries\n",
    "import pandas as pd\n",
    "import numpy as np\n",
    "import matplotlib.pyplot as plt\n",
    "import seaborn as sns\n",
    "import plotly.express as px\n",
    "import plotly.graph_objects as go\n",
    "from plotly.subplots import make_subplots\n",
    "\n",
    "# Set style\n",
    "plt.style.use('seaborn-v0_8')\n",
    "sns.set_palette(\"husl\")\n",
    "\n",
    "# Display options\n",
    "pd.set_option('display.max_columns', None)\n",
    "pd.set_option('display.width', None)\n",
    "\n",
    "print(\"Libraries imported successfully!\")"
   ]
  },
  {
   "cell_type": "markdown",
   "metadata": {},
   "source": [
    "## 1. Load and Inspect the Data"
   ]
  },
  {
   "cell_type": "code",
   "execution_count": null,
   "metadata": {},
   "outputs": [],
   "source": [
    "# Load the dataset\n",
    "data = pd.read_csv('../data/raw/insurance.csv')\n",
    "\n",
    "print(f\"Dataset shape: {data.shape}\")\n",
    "print(f\"\\nColumn names: {list(data.columns)}\")\n",
    "print(f\"\\nData types:\")\n",
    "print(data.dtypes)"
   ]
  },
  {
   "cell_type": "code",
   "execution_count": null,
   "metadata": {},
   "outputs": [],
   "source": [
    "# Display first few rows\n",
    "data.head(10)"
   ]
  },
  {
   "cell_type": "code",
   "execution_count": null,
   "metadata": {},
   "outputs": [],
   "source": [
    "# Basic statistics\n",
    "data.describe()"
   ]
  },
  {
   "cell_type": "code",
   "execution_count": null,
   "metadata": {},
   "outputs": [],
   "source": [
    "# Check for missing values\n",
    "missing_values = data.isnull().sum()\n",
    "print(\"Missing values per column:\")\n",
    "print(missing_values)\n",
    "print(f\"\\nTotal missing values: {missing_values.sum()}\")"
   ]
  },
  {
   "cell_type": "markdown",
   "metadata": {},
   "source": [
    "## 2. Exploratory Data Analysis"
   ]
  },
  {
   "cell_type": "code",
   "execution_count": null,
   "metadata": {},
   "outputs": [],
   "source": [
    "# Distribution of the target variable (charges)\n",
    "fig = px.histogram(data, x='charges', nbins=50, title='Distribution of Insurance Charges')\n",
    "fig.update_layout(xaxis_title=\"Insurance Charges ($)\", yaxis_title=\"Frequency\")\n",
    "fig.show()"
   ]
  },
  {
   "cell_type": "code",
   "execution_count": null,
   "metadata": {},
   "outputs": [],
   "source": [
    "# Categorical variables analysis\n",
    "categorical_cols = ['sex', 'smoker', 'region']\n",
    "\n",
    "fig, axes = plt.subplots(2, 2, figsize=(15, 10))\n",
    "fig.suptitle('Categorical Variables Analysis', fontsize=16)\n",
    "\n",
    "for i, col in enumerate(categorical_cols):\n",
    "    row = i // 2\n",
    "    col_idx = i % 2\n",
    "    \n",
    "    # Count plot\n",
    "    data[col].value_counts().plot(kind='bar', ax=axes[row, col_idx])\n",
    "    axes[row, col_idx].set_title(f'Distribution of {col.title()}')\n",
    "    axes[row, col_idx].set_xlabel(col.title())\n",
    "    axes[row, col_idx].set_ylabel('Count')\n",
    "    axes[row, col_idx].tick_params(axis='x', rotation=45)\n",
    "\n",
    "# Remove empty subplot\n",
    "fig.delaxes(axes[1, 1])\n",
    "\n",
    "plt.tight_layout()\n",
    "plt.show()"
   ]
  },
  {
   "cell_type": "code",
   "execution_count": null,
   "metadata": {},
   "outputs": [],
   "source": [
    "# Box plots for charges by categorical variables\n",
    "fig, axes = plt.subplots(1, 3, figsize=(18, 6))\n",
    "fig.suptitle('Insurance Charges by Categorical Variables', fontsize=16)\n",
    "\n",
    "for i, col in enumerate(categorical_cols):\n",
    "    sns.boxplot(data=data, x=col, y='charges', ax=axes[i])\n",
    "    axes[i].set_title(f'Charges by {col.title()}')\n",
    "    axes[i].tick_params(axis='x', rotation=45)\n",
    "\n",
    "plt.tight_layout()\n",
    "plt.show()"
   ]
  },
  {
   "cell_type": "code",
   "execution_count": null,
   "metadata": {},
   "outputs": [],
   "source": [
    "# Correlation matrix\n",
    "numeric_data = data.select_dtypes(include=[np.number])\n",
    "correlation_matrix = numeric_data.corr()\n",
    "\n",
    "plt.figure(figsize=(10, 8))\n",
    "sns.heatmap(correlation_matrix, annot=True, cmap='coolwarm', center=0, \n",
    "            square=True, linewidths=0.5)\n",
    "plt.title('Correlation Matrix of Numeric Variables')\n",
    "plt.tight_layout()\n",
    "plt.show()"
   ]
  },
  {
   "cell_type": "code",
   "execution_count": null,
   "metadata": {},
   "outputs": [],
   "source": [
    "# Scatter plots\n",
    "fig, axes = plt.subplots(2, 2, figsize=(15, 12))\n",
    "fig.suptitle('Scatter Plots: Numeric Variables vs Charges', fontsize=16)\n",
    "\n",
    "numeric_cols = ['age', 'bmi', 'children']\n",
    "\n",
    "for i, col in enumerate(numeric_cols):\n",
    "    row = i // 2\n",
    "    col_idx = i % 2\n",
    "    \n",
    "    # Scatter plot colored by smoker status\n",
    "    for smoker_status in data['smoker'].unique():\n",
    "        subset = data[data['smoker'] == smoker_status]\n",
    "        axes[row, col_idx].scatter(subset[col], subset['charges'], \n",
    "                                  label=f'Smoker: {smoker_status}', alpha=0.6)\n",
    "    \n",
    "    axes[row, col_idx].set_xlabel(col.title())\n",
    "    axes[row, col_idx].set_ylabel('Charges')\n",
    "    axes[row, col_idx].set_title(f'{col.title()} vs Charges')\n",
    "    axes[row, col_idx].legend()\n",
    "\n",
    "# Remove empty subplot\n",
    "fig.delaxes(axes[1, 1])\n",
    "\n",
    "plt.tight_layout()\n",
    "plt.show()"
   ]
  },
  {
   "cell_type": "markdown",
   "metadata": {},
   "source": [
    "## 3. Key Insights"
   ]
  },
  {
   "cell_type": "code",
   "execution_count": null,
   "metadata": {},
   "outputs": [],
   "source": [
    "# Statistical analysis of charges by smoker status\n",
    "smoker_stats = data.groupby('smoker')['charges'].agg(['mean', 'median', 'std', 'min', 'max'])\n",
    "print(\"Insurance Charges Statistics by Smoker Status:\")\n",
    "print(smoker_stats)\n",
    "\n",
    "# Calculate the ratio\n",
    "smoker_mean = smoker_stats.loc['yes', 'mean']\n",
    "non_smoker_mean = smoker_stats.loc['no', 'mean']\n",
    "ratio = smoker_mean / non_smoker_mean\n",
    "\n",
    "print(f\"\\nSmokers pay {ratio:.2f}x more than non-smokers on average\")"
   ]
  },
  {
   "cell_type": "code",
   "execution_count": null,
   "metadata": {},
   "outputs": [],
   "source": [
    "# Age analysis\n",
    "age_correlation = data['age'].corr(data['charges'])\n",
    "print(f\"Correlation between age and charges: {age_correlation:.3f}\")\n",
    "\n",
    "# BMI analysis\n",
    "bmi_correlation = data['bmi'].corr(data['charges'])\n",
    "print(f\"Correlation between BMI and charges: {bmi_correlation:.3f}\")\n",
    "\n",
    "# Regional analysis\n",
    "regional_stats = data.groupby('region')['charges'].mean().sort_values(ascending=False)\n",
    "print(\"\\nAverage charges by region:\")\n",
    "print(regional_stats)"
   ]
  },
  {
   "cell_type": "code",
   "execution_count": null,
   "metadata": {},
   "outputs": [],
   "source": [
    "# Summary of key findings\n",
    "print(\"=\" * 50)\n",
    "print(\"KEY FINDINGS FROM DATA EXPLORATION\")\n",
    "print(\"=\" * 50)\n",
    "\n",
    "print(f\"1. Dataset contains {len(data):,} records with {len(data.columns)} features\")\n",
    "print(f\"2. No missing values found in the dataset\")\n",
    "print(f\"3. Average insurance cost: ${data['charges'].mean():,.2f}\")\n",
    "print(f\"4. Smoking impact: Smokers pay {ratio:.1f}x more than non-smokers\")\n",
    "print(f\"5. Age correlation with charges: {age_correlation:.3f} (moderate positive)\")\n",
    "print(f\"6. BMI correlation with charges: {bmi_correlation:.3f} (weak positive)\")\n",
    "print(f\"7. Highest cost region: {regional_stats.index[0]} (${regional_stats.iloc[0]:,.2f})\")\n",
    "print(f\"8. Age range: {data['age'].min()} - {data['age'].max()} years\")\n",
    "print(f\"9. BMI range: {data['bmi'].min():.1f} - {data['bmi'].max():.1f}\")\n",
    "print(f\"10. Children range: {data['children'].min()} - {data['children'].max()}\")"
   ]
  },
  {
   "cell_type": "markdown",
   "metadata": {},
   "source": [
    "## 4. Data Quality Assessment"
   ]
  },
  {
   "cell_type": "code",
   "execution_count": null,
   "metadata": {},
   "outputs": [],
   "source": [
    "# Check for outliers using IQR method\n",
    "def detect_outliers(df, column):\n",
    "    Q1 = df[column].quantile(0.25)\n",
    "    Q3 = df[column].quantile(0.75)\n",
    "    IQR = Q3 - Q1\n",
    "    lower_bound = Q1 - 1.5 * IQR\n",
    "    upper_bound = Q3 + 1.5 * IQR\n",
    "    \n",
    "    outliers = df[(df[column] < lower_bound) | (df[column] > upper_bound)]\n",
    "    return len(outliers), lower_bound, upper_bound\n",
    "\n",
    "print(\"Outlier Analysis:\")\n",
    "print(\"-\" * 40)\n",
    "\n",
    "for col in numeric_data.columns:\n",
    "    outlier_count, lower, upper = detect_outliers(data, col)\n",
    "    print(f\"{col}: {outlier_count} outliers (bounds: {lower:.2f} - {upper:.2f})\")"
   ]
  },
  {
   "cell_type": "code",
   "execution_count": null,
   "metadata": {},
   "outputs": [],
   "source": [
    "# Check data distribution\n",
    "print(\"Data Distribution Analysis:\")\n",
    "print(\"-\" * 40)\n",
    "\n",
    "for col in numeric_data.columns:\n",
    "    skewness = data[col].skew()\n",
    "    kurtosis = data[col].kurtosis()\n",
    "    print(f\"{col}: Skewness = {skewness:.3f}, Kurtosis = {kurtosis:.3f}\")"
   ]
  },
  {
   "cell_type": "markdown",
   "metadata": {},
   "source": [
    "## Next Steps\n",
    "\n",
    "Based on this exploration, the next steps would be:\n",
    "\n",
    "1. **Feature Engineering**: Create interaction terms, especially between smoking status and other variables\n",
    "2. **Data Preprocessing**: Encode categorical variables and scale features if needed\n",
    "3. **Model Development**: Try different regression algorithms\n",
    "4. **Model Evaluation**: Compare performance using appropriate metrics\n",
    "5. **Model Interpretation**: Understand feature importance and model behavior\n",
    "\n",
    "The data appears to be clean and ready for modeling, with smoking status being the most significant factor affecting insurance costs."
   ]
  }
 ],
 "metadata": {
  "kernelspec": {
   "display_name": "Python 3",
   "language": "python",
   "name": "python3"
  },
  "language_info": {
   "codemirror_mode": {
    "name": "ipython",
    "version": 3
   },
   "file_extension": ".py",
   "mimetype": "text/x-python",
   "name": "python",
   "nbconvert_exporter": "python",
   "pygments_lexer": "ipython3",
   "version": "3.8.0"
  }
 },
 "nbformat": 4,
 "nbformat_minor": 4
}